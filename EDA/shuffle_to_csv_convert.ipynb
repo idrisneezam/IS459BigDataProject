{
 "cells": [
  {
   "cell_type": "code",
   "execution_count": 1,
   "metadata": {},
   "outputs": [
    {
     "name": "stdout",
     "output_type": "stream",
     "text": [
      "[124, 701.699]\n",
      "the program costs 252.17 seconds\n"
     ]
    }
   ],
   "source": [
    "import time, IPython\n",
    "import numpy as np\n",
    "import pandas as pd\n",
    "\n",
    "# calculate mean value\n",
    "\n",
    "pathfile = '../raw_data/airline.csv.shuffle'       \n",
    "reader = pd.read_csv(pathfile, chunksize=10**6, iterator=True, encoding='iso8859-1')                          \n",
    "total_sum = 0\n",
    "sample_size = 0\n",
    "chunk_counter = 0\n",
    "start = time.time()\n",
    "\n",
    "for each in reader:\n",
    "    chunk_counter += 1\n",
    "    data = each['Distance']\n",
    "    total_sum += np.nansum(data)\n",
    "    sample_size += np.sum(1 - np.isnan(data))\n",
    "    mu = np.round(total_sum / sample_size, 3)\n",
    "    IPython.display.clear_output(wait=True)\n",
    "    print([chunk_counter, mu])\n",
    "\n",
    "print('the program costs %.2f seconds' % (time.time() - start))"
   ]
  },
  {
   "cell_type": "code",
   "execution_count": 2,
   "metadata": {},
   "outputs": [
    {
     "name": "stdout",
     "output_type": "stream",
     "text": [
      "Processing Chunk No. 0\n",
      "Processing Chunk No. 20\n",
      "Processing Chunk No. 40\n",
      "Processing Chunk No. 60\n",
      "Processing Chunk No. 80\n",
      "Processing Chunk No. 100\n",
      "Processing Chunk No. 120\n",
      "the program costs 328.85 seconds\n",
      "The DataFrame takes up 2.26e+03 MB\n",
      "train has 9882798 rows and 29 columns\n"
     ]
    }
   ],
   "source": [
    "pathfile = '../raw_data/airline.csv.shuffle'       \n",
    "reader = pd.read_csv(pathfile, chunksize=10**6, iterator=True, encoding='iso8859-1')       \n",
    "\n",
    "def print_mem_usage(df):\n",
    "    mem = df.memory_usage().sum() / 1024 ** 2\n",
    "    print('The DataFrame takes up {:.3} MB'.format(mem))\n",
    "\n",
    "train = pd.DataFrame()\n",
    "start=time.time()  \n",
    "for i, chunk in enumerate(reader): \n",
    "    train = pd.concat([train, chunk.sample(frac=.08, replace=False, random_state=213) ], axis=0)  \n",
    "    if i % 20 == 0:\n",
    "        print('Processing Chunk No. {}'.format(i))  \n",
    "print('the program costs %.2f seconds'%(time.time() - start))\n",
    "    \n",
    "print_mem_usage(train)\n",
    "print('train has {} rows and {} columns'.format(train.shape[0], train.shape[1]))\n",
    "\n",
    "train.to_csv('../processed_data/airline.csv', index=False)\n",
    "\n"
   ]
  }
 ],
 "metadata": {
  "kernelspec": {
   "display_name": "base",
   "language": "python",
   "name": "python3"
  },
  "language_info": {
   "codemirror_mode": {
    "name": "ipython",
    "version": 3
   },
   "file_extension": ".py",
   "mimetype": "text/x-python",
   "name": "python",
   "nbconvert_exporter": "python",
   "pygments_lexer": "ipython3",
   "version": "3.11.7"
  }
 },
 "nbformat": 4,
 "nbformat_minor": 2
}
