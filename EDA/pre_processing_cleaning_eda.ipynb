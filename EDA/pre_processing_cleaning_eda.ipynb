{
 "cells": [
  {
   "cell_type": "code",
   "execution_count": 1,
   "metadata": {},
   "outputs": [],
   "source": [
    "import pandas as pd\n",
    "import time"
   ]
  },
  {
   "cell_type": "code",
   "execution_count": 6,
   "metadata": {},
   "outputs": [],
   "source": [
    "pathfile = \"../processed_data/airline.csv\"\n",
    "\n",
    "df1 = pd.read_csv(pathfile)"
   ]
  },
  {
   "cell_type": "code",
   "execution_count": 8,
   "metadata": {},
   "outputs": [
    {
     "name": "stdout",
     "output_type": "stream",
     "text": [
      "Total rows: 9882798, , Unique rows by composite index: 9882791\n"
     ]
    }
   ],
   "source": [
    "# Test uniqueness with an additional column like 'Origin'\n",
    "unique_rows_with_origin = df1.drop_duplicates(\n",
    "    subset=['Year', 'Month', 'DayofMonth', 'DepTime', 'FlightNum', 'Origin', 'Dest'])\n",
    "print(\n",
    "    f\"Total rows: {df1.shape[0]}, , Unique rows by composite index: {unique_rows_with_origin.shape[0]}\")"
   ]
  },
  {
   "cell_type": "code",
   "execution_count": 9,
   "metadata": {},
   "outputs": [
    {
     "name": "stdout",
     "output_type": "stream",
     "text": [
      "         ActualElapsedTime  AirTime  ArrDelay  ArrTime  CRSArrTime  \\\n",
      "1393779                NaN      NaN       NaN      NaN        1835   \n",
      "1408195              135.0      NaN      18.0   1348.0        1330   \n",
      "2331778                NaN      NaN       NaN      NaN        1327   \n",
      "2899134              196.0    167.0      -9.0   2136.0        2145   \n",
      "3418508                NaN      NaN       NaN      NaN           0   \n",
      "3762776                NaN      NaN       NaN      NaN           0   \n",
      "3996977                NaN      NaN       NaN      NaN        1947   \n",
      "4077638              186.0    170.0     -14.0   2126.0        2140   \n",
      "4739939                NaN      NaN       NaN      NaN        1325   \n",
      "5167899                NaN      NaN       NaN      NaN         743   \n",
      "7429331              116.0      NaN       4.0   1329.0        1325   \n",
      "7918780                NaN      NaN       NaN      NaN        2322   \n",
      "9079057                NaN      NaN       NaN      NaN        1301   \n",
      "9236868                NaN      NaN       NaN      NaN        1542   \n",
      "\n",
      "         CRSDepTime  CRSElapsedTime CancellationCode  Cancelled  CarrierDelay  \\\n",
      "1393779        1700           155.0              NaN          1           NaN   \n",
      "1408195        1033           117.0              NaN          0           NaN   \n",
      "2331778        1030           117.0              NaN          1           NaN   \n",
      "2899134        1830           195.0              NaN          0           0.0   \n",
      "3418508           0             NaN              NaN          1           NaN   \n",
      "3762776           0             NaN              NaN          1           NaN   \n",
      "3996977        1830           137.0              NaN          1           NaN   \n",
      "4077638        1825           195.0              NaN          0           0.0   \n",
      "4739939        1030           115.0              NaN          1           NaN   \n",
      "5167899         637           126.0              NaN          1           NaN   \n",
      "7429331        1030           115.0              NaN          0           NaN   \n",
      "7918780        2030           112.0              NaN          1           NaN   \n",
      "9079057        1040           141.0              NaN          1           NaN   \n",
      "9236868        1320           142.0              NaN          1           NaN   \n",
      "\n",
      "         ...  Month  NASDelay  Origin  SecurityDelay TailNum  TaxiIn  TaxiOut  \\\n",
      "1393779  ...      3       NaN     EWR            NaN  UNKNOW     0.0      0.0   \n",
      "1408195  ...     12       NaN     ORD            NaN     NaN     NaN      NaN   \n",
      "2331778  ...     12       NaN     ORD            NaN     NaN     NaN      NaN   \n",
      "2899134  ...     12       0.0     BOS            0.0  N558JB     2.0     27.0   \n",
      "3418508  ...      3       NaN     EWR            NaN  UNKNOW     0.0      0.0   \n",
      "3762776  ...      1       NaN     ORD            NaN  UNKNOW     0.0      0.0   \n",
      "3996977  ...      1       NaN     PHL            NaN  UNKNOW     0.0      0.0   \n",
      "4077638  ...     12       0.0     BOS            0.0  N548AA     3.0     13.0   \n",
      "4739939  ...     12       NaN     ORD            NaN     NaN     NaN      NaN   \n",
      "5167899  ...      1       NaN     PHL            NaN  UNKNOW     0.0      0.0   \n",
      "7429331  ...     12       NaN     ORD            NaN     NaN     NaN      NaN   \n",
      "7918780  ...      1       NaN     ORD            NaN  UNKNOW     0.0      0.0   \n",
      "9079057  ...      3       NaN     IAH            NaN  UNKNOW     0.0      0.0   \n",
      "9236868  ...      3       NaN     IAH            NaN  UNKNOW     0.0      0.0   \n",
      "\n",
      "         UniqueCarrier  WeatherDelay  Year  \n",
      "1393779             CO           NaN  1999  \n",
      "1408195             AA           NaN  1992  \n",
      "2331778             AA           NaN  1992  \n",
      "2899134             B6           0.0  2004  \n",
      "3418508             AA           NaN  1999  \n",
      "3762776             AA           NaN  1998  \n",
      "3996977             UA           NaN  1999  \n",
      "4077638             AA           0.0  2004  \n",
      "4739939             UA           NaN  1992  \n",
      "5167899             AA           NaN  1999  \n",
      "7429331             UA           NaN  1992  \n",
      "7918780             UA           NaN  1998  \n",
      "9079057             UA           NaN  1998  \n",
      "9236868             CO           NaN  1998  \n",
      "\n",
      "[14 rows x 29 columns]\n"
     ]
    }
   ],
   "source": [
    "# Find rows with duplicate composite keys\n",
    "duplicate_rows = df1[df1.duplicated(\n",
    "    subset=['Year', 'Month', 'DayofMonth', 'DepTime', 'FlightNum', 'Origin', 'Dest'], keep=False)]\n",
    "\n",
    "# Display duplicates for inspection\n",
    "print(duplicate_rows)"
   ]
  },
  {
   "cell_type": "code",
   "execution_count": 10,
   "metadata": {},
   "outputs": [
    {
     "name": "stdout",
     "output_type": "stream",
     "text": [
      "ActualElapsedTime     206652\n",
      "AirTime              3141004\n",
      "ArrDelay              206652\n",
      "ArrTime               206399\n",
      "CRSElapsedTime          2074\n",
      "CancellationCode     9824178\n",
      "CarrierDelay         7145066\n",
      "DepDelay              183923\n",
      "DepTime               183923\n",
      "Distance               16155\n",
      "LateAircraftDelay    7145066\n",
      "NASDelay             7145066\n",
      "SecurityDelay        7145066\n",
      "TailNum              2990853\n",
      "TaxiIn               2991662\n",
      "TaxiOut              2990517\n",
      "WeatherDelay         7145066\n",
      "dtype: int64\n"
     ]
    }
   ],
   "source": [
    "# Check for missing values in each column\n",
    "missing_values = df1.isnull().sum()\n",
    "# Display only columns with missing values\n",
    "print(missing_values[missing_values > 0])"
   ]
  },
  {
   "cell_type": "code",
   "execution_count": 12,
   "metadata": {},
   "outputs": [],
   "source": [
    "# Drop rows where critical delay columns have missing values\n",
    "df1 = df1.dropna(subset=['ArrDelay', 'DepDelay', 'CRSElapsedTime', 'Distance'])"
   ]
  },
  {
   "cell_type": "code",
   "execution_count": 13,
   "metadata": {},
   "outputs": [],
   "source": [
    "# Fill missing values with the median (more robust to outliers) or mean\n",
    "df1['TaxiIn'].fillna(df1['TaxiIn'].median(), inplace=True)\n",
    "df1['TaxiOut'].fillna(df1['TaxiOut'].median(), inplace=True)\n",
    "df1['AirTime'].fillna(df1['AirTime'].mean(), inplace=True)"
   ]
  },
  {
   "cell_type": "code",
   "execution_count": 14,
   "metadata": {},
   "outputs": [],
   "source": [
    "# Fill missing binary indicators with 0\n",
    "df1['Cancelled'].fillna(0, inplace=True)\n",
    "df1['Diverted'].fillna(0, inplace=True)"
   ]
  },
  {
   "cell_type": "code",
   "execution_count": 15,
   "metadata": {},
   "outputs": [],
   "source": [
    "# Impute actual departure and arrival times with scheduled times if missing\n",
    "df1['DepTime'].fillna(df1['CRSDepTime'], inplace=True)\n",
    "df1['ArrTime'].fillna(df1['CRSArrTime'], inplace=True)"
   ]
  },
  {
   "cell_type": "code",
   "execution_count": 16,
   "metadata": {},
   "outputs": [
    {
     "name": "stdout",
     "output_type": "stream",
     "text": [
      "ActualElapsedTime          0\n",
      "AirTime                    0\n",
      "ArrDelay                   0\n",
      "ArrTime                    0\n",
      "CRSArrTime                 0\n",
      "CRSDepTime                 0\n",
      "CRSElapsedTime             0\n",
      "CancellationCode     9660216\n",
      "Cancelled                  0\n",
      "CarrierDelay         6975525\n",
      "DayOfWeek                  0\n",
      "DayofMonth                 0\n",
      "DepDelay                   0\n",
      "DepTime                    0\n",
      "Dest                       0\n",
      "Distance                   0\n",
      "Diverted                   0\n",
      "FlightNum                  0\n",
      "LateAircraftDelay    6975525\n",
      "Month                      0\n",
      "NASDelay             6975525\n",
      "Origin                     0\n",
      "SecurityDelay        6975525\n",
      "TailNum              2923093\n",
      "TaxiIn                     0\n",
      "TaxiOut                    0\n",
      "UniqueCarrier              0\n",
      "WeatherDelay         6975525\n",
      "Year                       0\n",
      "dtype: int64\n"
     ]
    }
   ],
   "source": [
    "# Check for any remaining missing values\n",
    "print(df1.isnull().sum())"
   ]
  },
  {
   "cell_type": "code",
   "execution_count": 17,
   "metadata": {},
   "outputs": [
    {
     "data": {
      "text/html": [
       "<div>\n",
       "<style scoped>\n",
       "    .dataframe tbody tr th:only-of-type {\n",
       "        vertical-align: middle;\n",
       "    }\n",
       "\n",
       "    .dataframe tbody tr th {\n",
       "        vertical-align: top;\n",
       "    }\n",
       "\n",
       "    .dataframe thead th {\n",
       "        text-align: right;\n",
       "    }\n",
       "</style>\n",
       "<table border=\"1\" class=\"dataframe\">\n",
       "  <thead>\n",
       "    <tr style=\"text-align: right;\">\n",
       "      <th></th>\n",
       "      <th>ActualElapsedTime</th>\n",
       "      <th>AirTime</th>\n",
       "      <th>ArrDelay</th>\n",
       "      <th>ArrTime</th>\n",
       "      <th>CRSArrTime</th>\n",
       "      <th>CRSDepTime</th>\n",
       "      <th>CRSElapsedTime</th>\n",
       "      <th>CancellationCode</th>\n",
       "      <th>Cancelled</th>\n",
       "      <th>CarrierDelay</th>\n",
       "      <th>...</th>\n",
       "      <th>Month</th>\n",
       "      <th>NASDelay</th>\n",
       "      <th>Origin</th>\n",
       "      <th>SecurityDelay</th>\n",
       "      <th>TailNum</th>\n",
       "      <th>TaxiIn</th>\n",
       "      <th>TaxiOut</th>\n",
       "      <th>UniqueCarrier</th>\n",
       "      <th>WeatherDelay</th>\n",
       "      <th>Year</th>\n",
       "    </tr>\n",
       "  </thead>\n",
       "  <tbody>\n",
       "    <tr>\n",
       "      <th>0</th>\n",
       "      <td>154.0</td>\n",
       "      <td>122.000000</td>\n",
       "      <td>90.0</td>\n",
       "      <td>1850.0</td>\n",
       "      <td>1720</td>\n",
       "      <td>1455</td>\n",
       "      <td>145.0</td>\n",
       "      <td>NaN</td>\n",
       "      <td>0</td>\n",
       "      <td>0.0</td>\n",
       "      <td>...</td>\n",
       "      <td>6</td>\n",
       "      <td>23.0</td>\n",
       "      <td>ORD</td>\n",
       "      <td>0.0</td>\n",
       "      <td>N293AA</td>\n",
       "      <td>8.0</td>\n",
       "      <td>24.0</td>\n",
       "      <td>AA</td>\n",
       "      <td>0.0</td>\n",
       "      <td>2006</td>\n",
       "    </tr>\n",
       "    <tr>\n",
       "      <th>1</th>\n",
       "      <td>159.0</td>\n",
       "      <td>125.000000</td>\n",
       "      <td>59.0</td>\n",
       "      <td>1703.0</td>\n",
       "      <td>1604</td>\n",
       "      <td>1510</td>\n",
       "      <td>114.0</td>\n",
       "      <td>NaN</td>\n",
       "      <td>0</td>\n",
       "      <td>NaN</td>\n",
       "      <td>...</td>\n",
       "      <td>9</td>\n",
       "      <td>NaN</td>\n",
       "      <td>DTW</td>\n",
       "      <td>NaN</td>\n",
       "      <td>N8921E</td>\n",
       "      <td>19.0</td>\n",
       "      <td>15.0</td>\n",
       "      <td>NW</td>\n",
       "      <td>NaN</td>\n",
       "      <td>1997</td>\n",
       "    </tr>\n",
       "    <tr>\n",
       "      <th>3</th>\n",
       "      <td>70.0</td>\n",
       "      <td>102.819489</td>\n",
       "      <td>80.0</td>\n",
       "      <td>20.0</td>\n",
       "      <td>2300</td>\n",
       "      <td>2100</td>\n",
       "      <td>60.0</td>\n",
       "      <td>NaN</td>\n",
       "      <td>0</td>\n",
       "      <td>NaN</td>\n",
       "      <td>...</td>\n",
       "      <td>2</td>\n",
       "      <td>NaN</td>\n",
       "      <td>MDW</td>\n",
       "      <td>NaN</td>\n",
       "      <td>NaN</td>\n",
       "      <td>5.0</td>\n",
       "      <td>13.0</td>\n",
       "      <td>ML (1)</td>\n",
       "      <td>NaN</td>\n",
       "      <td>1991</td>\n",
       "    </tr>\n",
       "    <tr>\n",
       "      <th>9882794</th>\n",
       "      <td>137.0</td>\n",
       "      <td>102.819489</td>\n",
       "      <td>-10.0</td>\n",
       "      <td>708.0</td>\n",
       "      <td>718</td>\n",
       "      <td>550</td>\n",
       "      <td>148.0</td>\n",
       "      <td>NaN</td>\n",
       "      <td>0</td>\n",
       "      <td>NaN</td>\n",
       "      <td>...</td>\n",
       "      <td>8</td>\n",
       "      <td>NaN</td>\n",
       "      <td>MCO</td>\n",
       "      <td>NaN</td>\n",
       "      <td>NaN</td>\n",
       "      <td>5.0</td>\n",
       "      <td>13.0</td>\n",
       "      <td>DL</td>\n",
       "      <td>NaN</td>\n",
       "      <td>1992</td>\n",
       "    </tr>\n",
       "    <tr>\n",
       "      <th>9882795</th>\n",
       "      <td>76.0</td>\n",
       "      <td>61.000000</td>\n",
       "      <td>-4.0</td>\n",
       "      <td>736.0</td>\n",
       "      <td>740</td>\n",
       "      <td>620</td>\n",
       "      <td>80.0</td>\n",
       "      <td>NaN</td>\n",
       "      <td>0</td>\n",
       "      <td>NaN</td>\n",
       "      <td>...</td>\n",
       "      <td>5</td>\n",
       "      <td>NaN</td>\n",
       "      <td>ONT</td>\n",
       "      <td>NaN</td>\n",
       "      <td>N639@@</td>\n",
       "      <td>3.0</td>\n",
       "      <td>12.0</td>\n",
       "      <td>WN</td>\n",
       "      <td>NaN</td>\n",
       "      <td>2001</td>\n",
       "    </tr>\n",
       "    <tr>\n",
       "      <th>9882796</th>\n",
       "      <td>157.0</td>\n",
       "      <td>124.000000</td>\n",
       "      <td>18.0</td>\n",
       "      <td>3.0</td>\n",
       "      <td>2345</td>\n",
       "      <td>2015</td>\n",
       "      <td>150.0</td>\n",
       "      <td>NaN</td>\n",
       "      <td>0</td>\n",
       "      <td>0.0</td>\n",
       "      <td>...</td>\n",
       "      <td>12</td>\n",
       "      <td>7.0</td>\n",
       "      <td>SEA</td>\n",
       "      <td>0.0</td>\n",
       "      <td>N916FR</td>\n",
       "      <td>6.0</td>\n",
       "      <td>27.0</td>\n",
       "      <td>F9</td>\n",
       "      <td>0.0</td>\n",
       "      <td>2005</td>\n",
       "    </tr>\n",
       "  </tbody>\n",
       "</table>\n",
       "<p>6 rows × 29 columns</p>\n",
       "</div>"
      ],
      "text/plain": [
       "         ActualElapsedTime     AirTime  ArrDelay  ArrTime  CRSArrTime  \\\n",
       "0                    154.0  122.000000      90.0   1850.0        1720   \n",
       "1                    159.0  125.000000      59.0   1703.0        1604   \n",
       "3                     70.0  102.819489      80.0     20.0        2300   \n",
       "9882794              137.0  102.819489     -10.0    708.0         718   \n",
       "9882795               76.0   61.000000      -4.0    736.0         740   \n",
       "9882796              157.0  124.000000      18.0      3.0        2345   \n",
       "\n",
       "         CRSDepTime  CRSElapsedTime CancellationCode  Cancelled  CarrierDelay  \\\n",
       "0              1455           145.0              NaN          0           0.0   \n",
       "1              1510           114.0              NaN          0           NaN   \n",
       "3              2100            60.0              NaN          0           NaN   \n",
       "9882794         550           148.0              NaN          0           NaN   \n",
       "9882795         620            80.0              NaN          0           NaN   \n",
       "9882796        2015           150.0              NaN          0           0.0   \n",
       "\n",
       "         ...  Month  NASDelay  Origin  SecurityDelay TailNum  TaxiIn  TaxiOut  \\\n",
       "0        ...      6      23.0     ORD            0.0  N293AA     8.0     24.0   \n",
       "1        ...      9       NaN     DTW            NaN  N8921E    19.0     15.0   \n",
       "3        ...      2       NaN     MDW            NaN     NaN     5.0     13.0   \n",
       "9882794  ...      8       NaN     MCO            NaN     NaN     5.0     13.0   \n",
       "9882795  ...      5       NaN     ONT            NaN  N639@@     3.0     12.0   \n",
       "9882796  ...     12       7.0     SEA            0.0  N916FR     6.0     27.0   \n",
       "\n",
       "         UniqueCarrier  WeatherDelay  Year  \n",
       "0                   AA           0.0  2006  \n",
       "1                   NW           NaN  1997  \n",
       "3               ML (1)           NaN  1991  \n",
       "9882794             DL           NaN  1992  \n",
       "9882795             WN           NaN  2001  \n",
       "9882796             F9           0.0  2005  \n",
       "\n",
       "[6 rows x 29 columns]"
      ]
     },
     "execution_count": 17,
     "metadata": {},
     "output_type": "execute_result"
    }
   ],
   "source": [
    "# Use pd.concat to display the first and last three rows\n",
    "pd.concat([df1.head(3), df1.tail(3)])"
   ]
  },
  {
   "cell_type": "code",
   "execution_count": 18,
   "metadata": {},
   "outputs": [],
   "source": [
    "df1['CancellationCode'].fillna(\"Not Canceled\", inplace=True)"
   ]
  },
  {
   "cell_type": "code",
   "execution_count": 19,
   "metadata": {},
   "outputs": [],
   "source": [
    "delay_columns = ['CarrierDelay', 'NASDelay',\n",
    "                 'LateAircraftDelay', 'WeatherDelay', 'SecurityDelay']\n",
    "df1[delay_columns] = df1[delay_columns].fillna(0)"
   ]
  },
  {
   "cell_type": "code",
   "execution_count": 20,
   "metadata": {},
   "outputs": [],
   "source": [
    "# Fill with 'Unknown' for missing TailNum values\n",
    "df1['TailNum'].fillna(\"Unknown\", inplace=True)"
   ]
  },
  {
   "cell_type": "code",
   "execution_count": 21,
   "metadata": {},
   "outputs": [
    {
     "name": "stdout",
     "output_type": "stream",
     "text": [
      "ActualElapsedTime    0\n",
      "AirTime              0\n",
      "ArrDelay             0\n",
      "ArrTime              0\n",
      "CRSArrTime           0\n",
      "CRSDepTime           0\n",
      "CRSElapsedTime       0\n",
      "CancellationCode     0\n",
      "Cancelled            0\n",
      "CarrierDelay         0\n",
      "DayOfWeek            0\n",
      "DayofMonth           0\n",
      "DepDelay             0\n",
      "DepTime              0\n",
      "Dest                 0\n",
      "Distance             0\n",
      "Diverted             0\n",
      "FlightNum            0\n",
      "LateAircraftDelay    0\n",
      "Month                0\n",
      "NASDelay             0\n",
      "Origin               0\n",
      "SecurityDelay        0\n",
      "TailNum              0\n",
      "TaxiIn               0\n",
      "TaxiOut              0\n",
      "UniqueCarrier        0\n",
      "WeatherDelay         0\n",
      "Year                 0\n",
      "dtype: int64\n"
     ]
    }
   ],
   "source": [
    "# Check for any remaining missing values\n",
    "print(df1.isnull().sum())"
   ]
  },
  {
   "cell_type": "code",
   "execution_count": 22,
   "metadata": {},
   "outputs": [
    {
     "data": {
      "text/plain": [
       "(9660216, 29)"
      ]
     },
     "execution_count": 22,
     "metadata": {},
     "output_type": "execute_result"
    }
   ],
   "source": [
    "df1.shape"
   ]
  },
  {
   "cell_type": "code",
   "execution_count": 23,
   "metadata": {},
   "outputs": [
    {
     "data": {
      "text/plain": [
       "ActualElapsedTime    0\n",
       "AirTime              0\n",
       "ArrDelay             0\n",
       "ArrTime              0\n",
       "CRSArrTime           0\n",
       "CRSDepTime           0\n",
       "CRSElapsedTime       0\n",
       "CancellationCode     0\n",
       "Cancelled            0\n",
       "CarrierDelay         0\n",
       "DayOfWeek            0\n",
       "DayofMonth           0\n",
       "DepDelay             0\n",
       "DepTime              0\n",
       "Dest                 0\n",
       "Distance             0\n",
       "Diverted             0\n",
       "FlightNum            0\n",
       "LateAircraftDelay    0\n",
       "Month                0\n",
       "NASDelay             0\n",
       "Origin               0\n",
       "SecurityDelay        0\n",
       "TailNum              0\n",
       "TaxiIn               0\n",
       "TaxiOut              0\n",
       "UniqueCarrier        0\n",
       "WeatherDelay         0\n",
       "Year                 0\n",
       "dtype: int64"
      ]
     },
     "execution_count": 23,
     "metadata": {},
     "output_type": "execute_result"
    }
   ],
   "source": [
    "df1.isna().sum()"
   ]
  },
  {
   "cell_type": "code",
   "execution_count": 24,
   "metadata": {},
   "outputs": [
    {
     "data": {
      "text/plain": [
       "Index(['ActualElapsedTime', 'AirTime', 'ArrDelay', 'ArrTime', 'CRSArrTime',\n",
       "       'CRSDepTime', 'CRSElapsedTime', 'CancellationCode', 'Cancelled',\n",
       "       'CarrierDelay', 'DayOfWeek', 'DayofMonth', 'DepDelay', 'DepTime',\n",
       "       'Dest', 'Distance', 'Diverted', 'FlightNum', 'LateAircraftDelay',\n",
       "       'Month', 'NASDelay', 'Origin', 'SecurityDelay', 'TailNum', 'TaxiIn',\n",
       "       'TaxiOut', 'UniqueCarrier', 'WeatherDelay', 'Year'],\n",
       "      dtype='object')"
      ]
     },
     "execution_count": 24,
     "metadata": {},
     "output_type": "execute_result"
    }
   ],
   "source": [
    "df1.columns"
   ]
  },
  {
   "cell_type": "code",
   "execution_count": 26,
   "metadata": {},
   "outputs": [],
   "source": [
    "# Save to CSV (if needed)\n",
    "output_path = \"../processed_data/eda_airline_data.csv\"\n",
    "\n",
    "store = pd.DataFrame(df1)\n",
    "\n",
    "store.to_csv(output_path, index=False)"
   ]
  }
 ],
 "metadata": {
  "kernelspec": {
   "display_name": "base",
   "language": "python",
   "name": "python3"
  },
  "language_info": {
   "codemirror_mode": {
    "name": "ipython",
    "version": 3
   },
   "file_extension": ".py",
   "mimetype": "text/x-python",
   "name": "python",
   "nbconvert_exporter": "python",
   "pygments_lexer": "ipython3",
   "version": "3.11.7"
  }
 },
 "nbformat": 4,
 "nbformat_minor": 2
}
